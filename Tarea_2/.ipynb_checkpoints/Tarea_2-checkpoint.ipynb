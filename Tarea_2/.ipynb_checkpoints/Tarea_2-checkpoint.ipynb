{
 "cells": [
  {
   "cell_type": "code",
   "execution_count": 5,
   "metadata": {
    "collapsed": true
   },
   "outputs": [
    {
     "name": "stdout",
     "output_type": "stream",
     "text": [
      "Requirement already satisfied: pydrive in /home/jcons17/anaconda3/lib/python3.6/site-packages (1.3.1)\n",
      "Requirement already satisfied: google-api-python-client>=1.2 in /home/jcons17/anaconda3/lib/python3.6/site-packages (from pydrive) (1.12.8)\n",
      "Requirement already satisfied: oauth2client>=4.0.0 in /home/jcons17/anaconda3/lib/python3.6/site-packages (from pydrive) (4.1.3)\n",
      "Requirement already satisfied: PyYAML>=3.0 in /home/jcons17/anaconda3/lib/python3.6/site-packages (from pydrive) (3.12)\n",
      "Requirement already satisfied: google-api-core<2dev,>=1.21.0 in /home/jcons17/anaconda3/lib/python3.6/site-packages (from google-api-python-client>=1.2->pydrive) (1.25.1)\n",
      "Requirement already satisfied: uritemplate<4dev,>=3.0.0 in /home/jcons17/anaconda3/lib/python3.6/site-packages (from google-api-python-client>=1.2->pydrive) (3.0.1)\n",
      "Requirement already satisfied: six<2dev,>=1.13.0 in /home/jcons17/anaconda3/lib/python3.6/site-packages (from google-api-python-client>=1.2->pydrive) (1.15.0)\n",
      "Requirement already satisfied: google-auth-httplib2>=0.0.3 in /home/jcons17/anaconda3/lib/python3.6/site-packages (from google-api-python-client>=1.2->pydrive) (0.0.4)\n",
      "Requirement already satisfied: google-auth>=1.16.0 in /home/jcons17/anaconda3/lib/python3.6/site-packages (from google-api-python-client>=1.2->pydrive) (1.24.0)\n",
      "Requirement already satisfied: httplib2<1dev,>=0.15.0 in /home/jcons17/anaconda3/lib/python3.6/site-packages (from google-api-python-client>=1.2->pydrive) (0.18.1)\n",
      "Requirement already satisfied: setuptools>=40.3.0 in /home/jcons17/anaconda3/lib/python3.6/site-packages (from google-api-core<2dev,>=1.21.0->google-api-python-client>=1.2->pydrive) (52.0.0)\n",
      "Requirement already satisfied: protobuf>=3.12.0 in /home/jcons17/anaconda3/lib/python3.6/site-packages (from google-api-core<2dev,>=1.21.0->google-api-python-client>=1.2->pydrive) (3.14.0)\n",
      "Requirement already satisfied: googleapis-common-protos<2.0dev,>=1.6.0 in /home/jcons17/anaconda3/lib/python3.6/site-packages (from google-api-core<2dev,>=1.21.0->google-api-python-client>=1.2->pydrive) (1.52.0)\n",
      "Requirement already satisfied: requests<3.0.0dev,>=2.18.0 in /home/jcons17/anaconda3/lib/python3.6/site-packages (from google-api-core<2dev,>=1.21.0->google-api-python-client>=1.2->pydrive) (2.18.4)\n",
      "Requirement already satisfied: pytz in /home/jcons17/anaconda3/lib/python3.6/site-packages (from google-api-core<2dev,>=1.21.0->google-api-python-client>=1.2->pydrive) (2018.4)\n",
      "Requirement already satisfied: cachetools<5.0,>=2.0.0 in /home/jcons17/anaconda3/lib/python3.6/site-packages (from google-auth>=1.16.0->google-api-python-client>=1.2->pydrive) (4.2.1)\n",
      "Requirement already satisfied: rsa<5,>=3.1.4 in /home/jcons17/anaconda3/lib/python3.6/site-packages (from google-auth>=1.16.0->google-api-python-client>=1.2->pydrive) (4.7)\n",
      "Requirement already satisfied: pyasn1-modules>=0.2.1 in /home/jcons17/anaconda3/lib/python3.6/site-packages (from google-auth>=1.16.0->google-api-python-client>=1.2->pydrive) (0.2.8)\n",
      "Requirement already satisfied: pyasn1>=0.1.7 in /home/jcons17/anaconda3/lib/python3.6/site-packages (from oauth2client>=4.0.0->pydrive) (0.4.8)\n",
      "Requirement already satisfied: chardet<3.1.0,>=3.0.2 in /home/jcons17/anaconda3/lib/python3.6/site-packages (from requests<3.0.0dev,>=2.18.0->google-api-core<2dev,>=1.21.0->google-api-python-client>=1.2->pydrive) (3.0.4)\n",
      "Requirement already satisfied: idna<2.7,>=2.5 in /home/jcons17/anaconda3/lib/python3.6/site-packages (from requests<3.0.0dev,>=2.18.0->google-api-core<2dev,>=1.21.0->google-api-python-client>=1.2->pydrive) (2.6)\n",
      "Requirement already satisfied: urllib3<1.23,>=1.21.1 in /home/jcons17/anaconda3/lib/python3.6/site-packages (from requests<3.0.0dev,>=2.18.0->google-api-core<2dev,>=1.21.0->google-api-python-client>=1.2->pydrive) (1.22)\n",
      "Requirement already satisfied: certifi>=2017.4.17 in /home/jcons17/anaconda3/lib/python3.6/site-packages (from requests<3.0.0dev,>=2.18.0->google-api-core<2dev,>=1.21.0->google-api-python-client>=1.2->pydrive) (2018.4.16)\n"
     ]
    }
   ],
   "source": [
    "!pip install pydrive"
   ]
  },
  {
   "cell_type": "code",
   "execution_count": 4,
   "metadata": {},
   "outputs": [
    {
     "name": "stdout",
     "output_type": "stream",
     "text": [
      "Your browser has been opened to visit:\n",
      "\n",
      "    https://accounts.google.com/o/oauth2/auth?client_id=373742402530-ko7282788j08i0a33otq1s9sddu9nidg.apps.googleusercontent.com&redirect_uri=http%3A%2F%2Flocalhost%3A8080%2F&scope=https%3A%2F%2Fwww.googleapis.com%2Fauth%2Fdrive&access_type=offline&response_type=code\n",
      "\n",
      "Authentication successful.\n"
     ]
    }
   ],
   "source": [
    "from pydrive.auth import GoogleAuth\n",
    "\n",
    "gauth = GoogleAuth()\n",
    "gauth.LocalWebserverAuth()\n"
   ]
  },
  {
   "cell_type": "code",
   "execution_count": null,
   "metadata": {},
   "outputs": [
    {
     "name": "stdout",
     "output_type": "stream",
     "text": [
      "kaggle.json\n",
      "[sudo] password for jcons17: "
     ]
    }
   ],
   "source": [
    "!pip install -q kaggle\n",
    "!mkdir -p ~/.kaggle\n",
    "!cp kaggle.json ~/.kaggle/\n",
    "!ls ~/.kaggle\n",
    "!sudo chmod 600 /root/.kaggle/kaggle.json"
   ]
  },
  {
   "cell_type": "code",
   "execution_count": null,
   "metadata": {
    "collapsed": true
   },
   "outputs": [],
   "source": []
  }
 ],
 "metadata": {
  "kernelspec": {
   "display_name": "Python 3",
   "language": "python",
   "name": "python3"
  },
  "latex_envs": {
   "LaTeX_envs_menu_present": true,
   "autoclose": false,
   "autocomplete": true,
   "bibliofile": "biblio.bib",
   "cite_by": "apalike",
   "current_citInitial": 1,
   "eqLabelWithNumbers": true,
   "eqNumInitial": 1,
   "hotkeys": {
    "equation": "Ctrl-E",
    "itemize": "Ctrl-I"
   },
   "labels_anchors": false,
   "latex_user_defs": false,
   "report_style_numbering": false,
   "user_envs_cfg": false
  },
  "nbTranslate": {
   "displayLangs": [
    "es",
    "en"
   ],
   "hotkey": "alt-t",
   "langInMainMenu": true,
   "sourceLang": "en",
   "targetLang": "es",
   "useGoogleTranslate": true
  },
  "varInspector": {
   "cols": {
    "lenName": 16,
    "lenType": 16,
    "lenVar": 40
   },
   "kernels_config": {
    "python": {
     "delete_cmd_postfix": "",
     "delete_cmd_prefix": "del ",
     "library": "var_list.py",
     "varRefreshCmd": "print(var_dic_list())"
    },
    "r": {
     "delete_cmd_postfix": ") ",
     "delete_cmd_prefix": "rm(",
     "library": "var_list.r",
     "varRefreshCmd": "cat(var_dic_list()) "
    }
   },
   "types_to_exclude": [
    "module",
    "function",
    "builtin_function_or_method",
    "instance",
    "_Feature"
   ],
   "window_display": false
  }
 },
 "nbformat": 4,
 "nbformat_minor": 2
}
